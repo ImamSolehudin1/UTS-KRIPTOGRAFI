{
  "nbformat": 4,
  "nbformat_minor": 0,
  "metadata": {
    "colab": {
      "provenance": []
    },
    "kernelspec": {
      "name": "python3",
      "display_name": "Python 3"
    },
    "language_info": {
      "name": "python"
    }
  },
  "cells": [
    {
      "cell_type": "code",
      "execution_count": null,
      "metadata": {
        "colab": {
          "base_uri": "https://localhost:8080/"
        },
        "id": "vdS3ErJtI3tM",
        "outputId": "c03792b2-8ed9-465e-bed4-bfd44170b555"
      },
      "outputs": [
        {
          "output_type": "stream",
          "name": "stdout",
          "text": [
            "Masukkan Username anda: imam\n",
            "Masukkan Password anda: solehudin\n",
            "Proses Login anda berhasil!\n",
            "Password terenkripsi: ciygpmdgn\n",
            "Password terdekripsi: solehudin\n"
          ]
        }
      ],
      "source": [
        "#Vigennere Cippher\n",
        "\n",
        "def encrypt(text, key):\n",
        "    encrypted_text = \"\"\n",
        "    key_length = len(key)\n",
        "    for i in range(len(text)):\n",
        "        char = text[i]\n",
        "        if char.isalpha():\n",
        "            key_char = key[i % key_length]\n",
        "            key_shift = ord(key_char.lower()) - ord('a')\n",
        "            if char.islower():\n",
        "                encrypted_char = chr(((ord(char) - ord('a') + key_shift) % 26) + ord('a'))\n",
        "            else:\n",
        "                encrypted_char = chr(((ord(char) - ord('A') + key_shift) % 26) + ord('A'))\n",
        "            encrypted_text += encrypted_char\n",
        "        else:\n",
        "            encrypted_text += char\n",
        "    return encrypted_text\n",
        "\n",
        "\n",
        "\n",
        "def decrypt(text, key):\n",
        "    decrypted_text = \"\"\n",
        "    key_length = len(key)\n",
        "    for i in range(len(text)):\n",
        "        char = text[i]\n",
        "        if char.isalpha():\n",
        "            key_char = key[i % key_length]\n",
        "            key_shift = ord(key_char.lower()) - ord('a')\n",
        "            if char.islower():\n",
        "                decrypted_char = chr(((ord(char) - ord('a') - key_shift) % 26) + ord('a'))\n",
        "            else:\n",
        "                decrypted_char = chr(((ord(char) - ord('A') - key_shift) % 26) + ord('A'))\n",
        "            decrypted_text += decrypted_char\n",
        "        else:\n",
        "            decrypted_text += char\n",
        "    return decrypted_text\n",
        "\n",
        "# Proses Login\n",
        "def main():\n",
        "    username = \"imam\"\n",
        "    password = \"solehudin\"\n",
        "    key = \"kuncisaya\"  # kunci rahasia\n",
        "\n",
        "    # Enkripsi password sebelum disimpan\n",
        "    encrypted_password = encrypt(password, key)\n",
        "\n",
        "    # Simpan username dan password terenkripsi dalam database\n",
        "    database = {\"username\": username, \"password\": encrypted_password}\n",
        "\n",
        "    # Login\n",
        "    input_username = input(\"Masukkan Username anda: \")\n",
        "    input_password = input(\"Masukkan Password anda: \")\n",
        "\n",
        "    if input_username == database[\"username\"] and decrypt(database[\"password\"], key) == input_password:\n",
        "        print(\"Proses Login anda berhasil!\")\n",
        "\n",
        "        # Tampilkan hasil enkripsi dan dekripsi\n",
        "        print(f\"Password terenkripsi: {encrypted_password}\")\n",
        "        decrypted_password = decrypt(database[\"password\"], key)\n",
        "        print(f\"Password terdekripsi: {decrypted_password}\")\n",
        "    else:\n",
        "        print(\"Proses Login anda gagal!\")\n",
        "\n",
        "if __name__ == \"__main__\":\n",
        "    main()"
      ]
    }
  ]
}