{
  "nbformat": 4,
  "nbformat_minor": 0,
  "metadata": {
    "colab": {
      "provenance": []
    },
    "kernelspec": {
      "name": "python3",
      "display_name": "Python 3"
    },
    "language_info": {
      "name": "python"
    }
  },
  "cells": [
    {
      "cell_type": "code",
      "execution_count": 1,
      "metadata": {
        "colab": {
          "base_uri": "https://localhost:8080/"
        },
        "id": "sPFGm5n4OJTV",
        "outputId": "c1a3ce22-94e4-4a2e-a8ff-bf1a6aee0c2b"
      },
      "outputs": [
        {
          "output_type": "stream",
          "name": "stdout",
          "text": [
            "Masukkan teks untuk dienkripsi: imamsolehudin\n",
            "Masukkan nilai 'a' (bilangan bulat, tidak boleh 0, dan saling prima dengan 26): 3\n",
            "Masukkan nilai 'b' (bilangan bulat): 2\n",
            "\n",
            "Teks Awal: imamsolehudin\n",
            "Teks Terenkripsi: amcmesjoxklap\n",
            "Teks Terdekripsi: imamsolehudin\n"
          ]
        }
      ],
      "source": [
        "def mod_inverse(a, m):\n",
        "    # Mencari invers modulo a terhadap m\n",
        "    for i in range(1, m):\n",
        "        if (a * i) % m == 1:\n",
        "            return i\n",
        "    return None\n",
        "\n",
        "def affine_cipher_encrypt(plain_text, a, b):\n",
        "    encrypted_text = \"\"\n",
        "    for char in plain_text:\n",
        "        if char.isalpha():\n",
        "            if char.islower():\n",
        "                encrypted_text += chr(((a * (ord(char) - ord('a')) + b) % 26) + ord('a'))\n",
        "            else:\n",
        "                encrypted_text += chr(((a * (ord(char) - ord('A')) + b) % 26) + ord('A'))\n",
        "        else:\n",
        "            encrypted_text += char\n",
        "    return encrypted_text\n",
        "\n",
        "def affine_cipher_decrypt(encrypted_text, a, b):\n",
        "    decrypted_text = \"\"\n",
        "    a_inv = mod_inverse(a, 26)\n",
        "    if a_inv is not None:\n",
        "        for char in encrypted_text:\n",
        "            if char.isalpha():\n",
        "                if char.islower():\n",
        "                    decrypted_text += chr(((a_inv * (ord(char) - ord('a') - b)) % 26) + ord('a'))\n",
        "                else:\n",
        "                    decrypted_text += chr(((a_inv * (ord(char) - ord('A') - b)) % 26) + ord('A'))\n",
        "            else:\n",
        "                decrypted_text += char\n",
        "    else:\n",
        "        raise ValueError(\"Inverse modulo tidak ditemukan.\")\n",
        "    return decrypted_text\n",
        "\n",
        "def main():\n",
        "    # Mengambil input dari pengguna\n",
        "    text = input(\"Masukkan teks untuk dienkripsi: \")\n",
        "    a = int(input(\"Masukkan nilai 'a' (bilangan bulat, tidak boleh 0, dan saling prima dengan 26): \"))\n",
        "    b = int(input(\"Masukkan nilai 'b' (bilangan bulat): \"))\n",
        "\n",
        "    # Mengenkripsi dan mendekripsi teks\n",
        "    encrypted_text = affine_cipher_encrypt(text, a, b)\n",
        "    decrypted_text = affine_cipher_decrypt(encrypted_text, a, b)\n",
        "\n",
        "    # Menampilkan hasil\n",
        "    print(\"\\nTeks Awal:\", text)\n",
        "    print(\"Teks Terenkripsi:\", encrypted_text)\n",
        "    print(\"Teks Terdekripsi:\", decrypted_text)\n",
        "\n",
        "if __name__ == \"__main__\":\n",
        "    main()\n"
      ]
    }
  ]
}