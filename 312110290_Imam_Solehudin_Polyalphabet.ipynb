{
  "nbformat": 4,
  "nbformat_minor": 0,
  "metadata": {
    "colab": {
      "provenance": []
    },
    "kernelspec": {
      "name": "python3",
      "display_name": "Python 3"
    },
    "language_info": {
      "name": "python"
    }
  },
  "cells": [
    {
      "cell_type": "code",
      "execution_count": 4,
      "metadata": {
        "colab": {
          "base_uri": "https://localhost:8080/"
        },
        "id": "qv8COpHbOXl4",
        "outputId": "c5c816bc-755b-46ab-cc54-c54d9494c382"
      },
      "outputs": [
        {
          "output_type": "stream",
          "name": "stdout",
          "text": [
            "Masukkan teks untuk dienkripsi: imamsolehudin\n",
            "Masukkan kunci enkripsi (kata kunci): pelita\n",
            "\n",
            "Teks Awal: imamsolehudin\n",
            "Teks Terenkripsi: xqluloaiscwic\n",
            "Teks Terdekripsi: imamsolehudin\n"
          ]
        }
      ],
      "source": [
        "def polyalphabet_cipher_encrypt(plain_text, key):\n",
        "    encrypted_text = \"\"\n",
        "    key_length = len(key)\n",
        "\n",
        "    for i in range(len(plain_text)):\n",
        "        char = plain_text[i]\n",
        "        if char.isalpha():\n",
        "            start = ord('a') if char.islower() else ord('A')\n",
        "            key_char = key[i % key_length]\n",
        "            key_shift = ord(key_char) - ord('a') if key_char.islower() else ord(key_char) - ord('A')\n",
        "            encrypted_text += chr((ord(char) - start + key_shift) % 26 + start)\n",
        "        else:\n",
        "            encrypted_text += char\n",
        "\n",
        "    return encrypted_text\n",
        "\n",
        "def polyalphabet_cipher_decrypt(encrypted_text, key):\n",
        "    decrypted_text = \"\"\n",
        "    key_length = len(key)\n",
        "\n",
        "    for i in range(len(encrypted_text)):\n",
        "        char = encrypted_text[i]\n",
        "        if char.isalpha():\n",
        "            start = ord('a') if char.islower() else ord('A')\n",
        "            key_char = key[i % key_length]\n",
        "            key_shift = ord(key_char) - ord('a') if key_char.islower() else ord(key_char) - ord('A')\n",
        "            decrypted_text += chr((ord(char) - start - key_shift) % 26 + start)\n",
        "        else:\n",
        "            decrypted_text += char\n",
        "\n",
        "    return decrypted_text\n",
        "\n",
        "def main():\n",
        "    # Mengambil input dari pengguna\n",
        "    text = input(\"Masukkan teks untuk dienkripsi: \")\n",
        "    key = input(\"Masukkan kunci enkripsi (kata kunci): \")\n",
        "\n",
        "    # Mengenkripsi dan mendekripsi teks\n",
        "    encrypted_text = polyalphabet_cipher_encrypt(text, key)\n",
        "    decrypted_text = polyalphabet_cipher_decrypt(encrypted_text, key)\n",
        "\n",
        "    # Menampilkan hasil\n",
        "    print(\"\\nTeks Awal:\", text)\n",
        "    print(\"Teks Terenkripsi:\", encrypted_text)\n",
        "    print(\"Teks Terdekripsi:\", decrypted_text)\n",
        "\n",
        "if __name__ == \"__main__\":\n",
        "    main()\n"
      ]
    }
  ]
}