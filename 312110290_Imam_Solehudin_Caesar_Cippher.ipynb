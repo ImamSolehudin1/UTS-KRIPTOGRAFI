{
  "nbformat": 4,
  "nbformat_minor": 0,
  "metadata": {
    "colab": {
      "provenance": []
    },
    "kernelspec": {
      "name": "python3",
      "display_name": "Python 3"
    },
    "language_info": {
      "name": "python"
    }
  },
  "cells": [
    {
      "cell_type": "code",
      "execution_count": null,
      "metadata": {
        "colab": {
          "base_uri": "https://localhost:8080/"
        },
        "id": "QF37nwntIob_",
        "outputId": "eb2d043e-74c5-4f4b-a65e-25e2afa31b1e"
      },
      "outputs": [
        {
          "output_type": "stream",
          "name": "stdout",
          "text": [
            "Masukkan teks untuk dienkripsi: imamsolehudin\n",
            "Masukkan jumlah pergeseran (angka bulat): 5\n",
            "\n",
            "Teks Awal: imamsolehudin\n",
            "Teks Terenkripsi: nrfrxtqjmzins\n",
            "Teks Terdekripsi: imamsolehudin\n"
          ]
        }
      ],
      "source": [
        "#Caesar Cippher\n",
        "\n",
        "def caesar_cipher_encrypt(plain_text, shift):\n",
        "    encrypted_text = \"\"\n",
        "    for char in plain_text:\n",
        "        if char.isalpha():\n",
        "            start = ord('a') if char.islower() else ord('A')\n",
        "            encrypted_text += chr((ord(char) - start + shift) % 26 + start)\n",
        "        else:\n",
        "            encrypted_text += char\n",
        "    return encrypted_text\n",
        "\n",
        "def caesar_cipher_decrypt(encrypted_text, shift):\n",
        "    return caesar_cipher_encrypt(encrypted_text, -shift)\n",
        "\n",
        "def main():\n",
        "    # Mengambil input dari pengguna\n",
        "    text = input(\"Masukkan teks untuk dienkripsi: \")\n",
        "    shift = int(input(\"Masukkan jumlah pergeseran (angka bulat): \"))\n",
        "\n",
        "    # Mengenkripsi dan mendekripsi teks\n",
        "    encrypted_text = caesar_cipher_encrypt(text, shift)\n",
        "    decrypted_text = caesar_cipher_decrypt(encrypted_text, shift)\n",
        "\n",
        "    # Menampilkan hasil\n",
        "    print(\"\\nTeks Awal:\", text)\n",
        "    print(\"Teks Terenkripsi:\", encrypted_text)\n",
        "    print(\"Teks Terdekripsi:\", decrypted_text)\n",
        "\n",
        "if __name__ == \"__main__\":\n",
        "    main()\n"
      ]
    }
  ]
}